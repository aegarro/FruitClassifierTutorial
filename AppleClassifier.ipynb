{
  "nbformat": 4,
  "nbformat_minor": 0,
  "metadata": {
    "kernelspec": {
      "name": "python3",
      "display_name": "Python 3"
    },
    "language_info": {
      "codemirror_mode": {
        "name": "ipython",
        "version": 3
      },
      "file_extension": ".py",
      "mimetype": "text/x-python",
      "name": "python",
      "nbconvert_exporter": "python",
      "pygments_lexer": "ipython3",
      "version": "3.7.4"
    },
    "colab": {
      "name": "AppleClassifier.ipynb",
      "provenance": [],
      "collapsed_sections": [],
      "toc_visible": true
    },
    "accelerator": "GPU"
  },
  "cells": [
    {
      "cell_type": "markdown",
      "metadata": {
        "id": "QLjKNls8aGdx",
        "colab_type": "text"
      },
      "source": [
        "This tutorial shows the process of creating an apple classifier using deep learning methods. We will use an already created model (VGG-16) and apply transfer learning to the model. In the end, we will implement a model capable of classifying certain apples from our data set.\n",
        "\n"
      ]
    },
    {
      "cell_type": "markdown",
      "metadata": {
        "id": "J4C66DRPgSby",
        "colab_type": "text"
      },
      "source": [
        "# Background Information"
      ]
    },
    {
      "cell_type": "markdown",
      "metadata": {
        "id": "WNoINX6XBIus",
        "colab_type": "text"
      },
      "source": [
        "### What is a CNN?\n",
        "A convolutional neural network (CNN) is what we refer to as a *model* in deep learning. Convolutional neural networks can learn extremely complex mapping functions when it is trained on enough data. \n",
        "\n",
        "CNNs consist of multiple filters, where each filter can be represented as an (n*n) matrix. The training of a CNN consists of finding of the right values on each of the filters so that an input image when passed through the multiple layers, activates certain neurons of the last layer so as to predict the correct class. In our case, we will be trying to predict the correct type of apple.\n",
        "\n",
        "\n",
        "### What is Transfer Learning?\n",
        "In transfer learning, we take the pre-trained weights of an already trained model (one that has been trained on millions of images belonging to thousands of classes, on several high power GPU’s for several days!) and use these already learned features to predict new classes. \n",
        "\n",
        "The advantages of transfer learning: \n",
        "  1. No need for an extremely large dataset.\n",
        "  2. Not much computational power is required"
      ]
    },
    {
      "cell_type": "markdown",
      "metadata": {
        "id": "N_fLIjCngIfp",
        "colab_type": "text"
      },
      "source": [
        "# Set up environment"
      ]
    },
    {
      "cell_type": "markdown",
      "metadata": {
        "id": "sF6KwVmXZpHD",
        "colab_type": "text"
      },
      "source": [
        "We need to install keras (Python Deep Learning Library) and clone a github repo in order to access the Fruits 360 dataset."
      ]
    },
    {
      "cell_type": "code",
      "metadata": {
        "id": "n9scPkaDokXJ",
        "colab_type": "code",
        "outputId": "30dfe7ef-5758-4a54-862d-4aa978f1855a",
        "colab": {
          "base_uri": "https://localhost:8080/",
          "height": 34
        }
      },
      "source": [
        "!pip install -q keras\n",
        "!git clone https://github.com/aegarro/FruitClassifierTutorial.git"
      ],
      "execution_count": 1,
      "outputs": [
        {
          "output_type": "stream",
          "text": [
            "fatal: destination path 'FruitClassifierTutorial' already exists and is not an empty directory.\n"
          ],
          "name": "stdout"
        }
      ]
    },
    {
      "cell_type": "code",
      "metadata": {
        "id": "FuZW3KPoxexk",
        "colab_type": "code",
        "outputId": "e5b90296-3aab-4637-ee6b-ea4d48dd350b",
        "colab": {
          "base_uri": "https://localhost:8080/",
          "height": 462
        }
      },
      "source": [
        "import tensorflow as tf\n",
        "print(tf.__version__)"
      ],
      "execution_count": 2,
      "outputs": [
        {
          "output_type": "stream",
          "text": [
            "/usr/local/lib/python3.6/dist-packages/tensorflow/python/framework/dtypes.py:516: FutureWarning: Passing (type, 1) or '1type' as a synonym of type is deprecated; in a future version of numpy, it will be understood as (type, (1,)) / '(1,)type'.\n",
            "  _np_qint8 = np.dtype([(\"qint8\", np.int8, 1)])\n",
            "/usr/local/lib/python3.6/dist-packages/tensorflow/python/framework/dtypes.py:517: FutureWarning: Passing (type, 1) or '1type' as a synonym of type is deprecated; in a future version of numpy, it will be understood as (type, (1,)) / '(1,)type'.\n",
            "  _np_quint8 = np.dtype([(\"quint8\", np.uint8, 1)])\n",
            "/usr/local/lib/python3.6/dist-packages/tensorflow/python/framework/dtypes.py:518: FutureWarning: Passing (type, 1) or '1type' as a synonym of type is deprecated; in a future version of numpy, it will be understood as (type, (1,)) / '(1,)type'.\n",
            "  _np_qint16 = np.dtype([(\"qint16\", np.int16, 1)])\n",
            "/usr/local/lib/python3.6/dist-packages/tensorflow/python/framework/dtypes.py:519: FutureWarning: Passing (type, 1) or '1type' as a synonym of type is deprecated; in a future version of numpy, it will be understood as (type, (1,)) / '(1,)type'.\n",
            "  _np_quint16 = np.dtype([(\"quint16\", np.uint16, 1)])\n",
            "/usr/local/lib/python3.6/dist-packages/tensorflow/python/framework/dtypes.py:520: FutureWarning: Passing (type, 1) or '1type' as a synonym of type is deprecated; in a future version of numpy, it will be understood as (type, (1,)) / '(1,)type'.\n",
            "  _np_qint32 = np.dtype([(\"qint32\", np.int32, 1)])\n",
            "/usr/local/lib/python3.6/dist-packages/tensorflow/python/framework/dtypes.py:525: FutureWarning: Passing (type, 1) or '1type' as a synonym of type is deprecated; in a future version of numpy, it will be understood as (type, (1,)) / '(1,)type'.\n",
            "  np_resource = np.dtype([(\"resource\", np.ubyte, 1)])\n"
          ],
          "name": "stderr"
        },
        {
          "output_type": "stream",
          "text": [
            "2.0.0-beta1\n"
          ],
          "name": "stdout"
        },
        {
          "output_type": "stream",
          "text": [
            "/usr/local/lib/python3.6/dist-packages/tensorboard/compat/tensorflow_stub/dtypes.py:541: FutureWarning: Passing (type, 1) or '1type' as a synonym of type is deprecated; in a future version of numpy, it will be understood as (type, (1,)) / '(1,)type'.\n",
            "  _np_qint8 = np.dtype([(\"qint8\", np.int8, 1)])\n",
            "/usr/local/lib/python3.6/dist-packages/tensorboard/compat/tensorflow_stub/dtypes.py:542: FutureWarning: Passing (type, 1) or '1type' as a synonym of type is deprecated; in a future version of numpy, it will be understood as (type, (1,)) / '(1,)type'.\n",
            "  _np_quint8 = np.dtype([(\"quint8\", np.uint8, 1)])\n",
            "/usr/local/lib/python3.6/dist-packages/tensorboard/compat/tensorflow_stub/dtypes.py:543: FutureWarning: Passing (type, 1) or '1type' as a synonym of type is deprecated; in a future version of numpy, it will be understood as (type, (1,)) / '(1,)type'.\n",
            "  _np_qint16 = np.dtype([(\"qint16\", np.int16, 1)])\n",
            "/usr/local/lib/python3.6/dist-packages/tensorboard/compat/tensorflow_stub/dtypes.py:544: FutureWarning: Passing (type, 1) or '1type' as a synonym of type is deprecated; in a future version of numpy, it will be understood as (type, (1,)) / '(1,)type'.\n",
            "  _np_quint16 = np.dtype([(\"quint16\", np.uint16, 1)])\n",
            "/usr/local/lib/python3.6/dist-packages/tensorboard/compat/tensorflow_stub/dtypes.py:545: FutureWarning: Passing (type, 1) or '1type' as a synonym of type is deprecated; in a future version of numpy, it will be understood as (type, (1,)) / '(1,)type'.\n",
            "  _np_qint32 = np.dtype([(\"qint32\", np.int32, 1)])\n",
            "/usr/local/lib/python3.6/dist-packages/tensorboard/compat/tensorflow_stub/dtypes.py:550: FutureWarning: Passing (type, 1) or '1type' as a synonym of type is deprecated; in a future version of numpy, it will be understood as (type, (1,)) / '(1,)type'.\n",
            "  np_resource = np.dtype([(\"resource\", np.ubyte, 1)])\n"
          ],
          "name": "stderr"
        }
      ]
    },
    {
      "cell_type": "markdown",
      "metadata": {
        "id": "8CKuhF2_clmY",
        "colab_type": "text"
      },
      "source": [
        "If your version printed above is **not** 2.0.0, please remove the '#' from the lines below and run the commands to install tensorflow 2.0.0. Next, run the code section above again to validate that '2.0.0-beta1' is printed.\n"
      ]
    },
    {
      "cell_type": "code",
      "metadata": {
        "id": "5Ps3IqtEwpuc",
        "colab_type": "code",
        "colab": {
          "base_uri": "https://localhost:8080/",
          "height": 735
        },
        "outputId": "c97af02f-3012-4b19-954b-cbc5c0d84ecc"
      },
      "source": [
        "# uncomment the lines below if tensorflow version is NOT 2.0.0\n",
        "!pip uninstall tensorflow\n",
        "!pip install tensorflow==2.0.0-beta1"
      ],
      "execution_count": 3,
      "outputs": [
        {
          "output_type": "stream",
          "text": [
            "Uninstalling tensorflow-2.0.0b1:\n",
            "  Would remove:\n",
            "    /usr/local/bin/freeze_graph\n",
            "    /usr/local/bin/saved_model_cli\n",
            "    /usr/local/bin/tensorboard\n",
            "    /usr/local/bin/tf_upgrade_v2\n",
            "    /usr/local/bin/tflite_convert\n",
            "    /usr/local/bin/toco\n",
            "    /usr/local/bin/toco_from_protos\n",
            "    /usr/local/lib/python3.6/dist-packages/tensorflow-2.0.0b1.dist-info/*\n",
            "    /usr/local/lib/python3.6/dist-packages/tensorflow/*\n",
            "Proceed (y/n)? y\n",
            "  Successfully uninstalled tensorflow-2.0.0b1\n",
            "Collecting tensorflow==2.0.0-beta1\n",
            "  Using cached https://files.pythonhosted.org/packages/29/6c/2c9a5c4d095c63c2fb37d20def0e4f92685f7aee9243d6aae25862694fd1/tensorflow-2.0.0b1-cp36-cp36m-manylinux1_x86_64.whl\n",
            "Requirement already satisfied: gast>=0.2.0 in /usr/local/lib/python3.6/dist-packages (from tensorflow==2.0.0-beta1) (0.2.2)\n",
            "Requirement already satisfied: keras-preprocessing>=1.0.5 in /usr/local/lib/python3.6/dist-packages (from tensorflow==2.0.0-beta1) (1.1.0)\n",
            "Requirement already satisfied: six>=1.10.0 in /usr/local/lib/python3.6/dist-packages (from tensorflow==2.0.0-beta1) (1.12.0)\n",
            "Requirement already satisfied: google-pasta>=0.1.6 in /usr/local/lib/python3.6/dist-packages (from tensorflow==2.0.0-beta1) (0.1.8)\n",
            "Requirement already satisfied: keras-applications>=1.0.6 in /usr/local/lib/python3.6/dist-packages (from tensorflow==2.0.0-beta1) (1.0.8)\n",
            "Requirement already satisfied: astor>=0.6.0 in /usr/local/lib/python3.6/dist-packages (from tensorflow==2.0.0-beta1) (0.8.1)\n",
            "Requirement already satisfied: protobuf>=3.6.1 in /usr/local/lib/python3.6/dist-packages (from tensorflow==2.0.0-beta1) (3.10.0)\n",
            "Requirement already satisfied: wrapt>=1.11.1 in /usr/local/lib/python3.6/dist-packages (from tensorflow==2.0.0-beta1) (1.11.2)\n",
            "Requirement already satisfied: wheel>=0.26 in /usr/local/lib/python3.6/dist-packages (from tensorflow==2.0.0-beta1) (0.34.2)\n",
            "Requirement already satisfied: numpy<2.0,>=1.14.5 in /usr/local/lib/python3.6/dist-packages (from tensorflow==2.0.0-beta1) (1.17.5)\n",
            "Requirement already satisfied: termcolor>=1.1.0 in /usr/local/lib/python3.6/dist-packages (from tensorflow==2.0.0-beta1) (1.1.0)\n",
            "Requirement already satisfied: absl-py>=0.7.0 in /usr/local/lib/python3.6/dist-packages (from tensorflow==2.0.0-beta1) (0.9.0)\n",
            "Requirement already satisfied: tb-nightly<1.14.0a20190604,>=1.14.0a20190603 in /usr/local/lib/python3.6/dist-packages (from tensorflow==2.0.0-beta1) (1.14.0a20190603)\n",
            "Requirement already satisfied: grpcio>=1.8.6 in /usr/local/lib/python3.6/dist-packages (from tensorflow==2.0.0-beta1) (1.27.1)\n",
            "Requirement already satisfied: tf-estimator-nightly<1.14.0.dev2019060502,>=1.14.0.dev2019060501 in /usr/local/lib/python3.6/dist-packages (from tensorflow==2.0.0-beta1) (1.14.0.dev2019060501)\n",
            "Requirement already satisfied: h5py in /usr/local/lib/python3.6/dist-packages (from keras-applications>=1.0.6->tensorflow==2.0.0-beta1) (2.8.0)\n",
            "Requirement already satisfied: setuptools in /usr/local/lib/python3.6/dist-packages (from protobuf>=3.6.1->tensorflow==2.0.0-beta1) (45.2.0)\n",
            "Requirement already satisfied: werkzeug>=0.11.15 in /usr/local/lib/python3.6/dist-packages (from tb-nightly<1.14.0a20190604,>=1.14.0a20190603->tensorflow==2.0.0-beta1) (1.0.0)\n",
            "Requirement already satisfied: markdown>=2.6.8 in /usr/local/lib/python3.6/dist-packages (from tb-nightly<1.14.0a20190604,>=1.14.0a20190603->tensorflow==2.0.0-beta1) (3.2.1)\n",
            "Installing collected packages: tensorflow\n",
            "Successfully installed tensorflow-2.0.0b1\n"
          ],
          "name": "stdout"
        },
        {
          "output_type": "display_data",
          "data": {
            "application/vnd.colab-display-data+json": {
              "pip_warning": {
                "packages": [
                  "tensorflow"
                ]
              }
            }
          },
          "metadata": {
            "tags": []
          }
        }
      ]
    },
    {
      "cell_type": "markdown",
      "metadata": {
        "id": "s6TRpncmezfb",
        "colab_type": "text"
      },
      "source": [
        "Import all needed libraries"
      ]
    },
    {
      "cell_type": "code",
      "metadata": {
        "id": "Vv5HvOiGoXBU",
        "colab_type": "code",
        "colab": {}
      },
      "source": [
        "import os\n",
        "import numpy as np\n",
        "import cv2\n",
        "from tensorflow.python.keras.preprocessing.image import ImageDataGenerator\n",
        "from tensorflow.keras.applications import VGG16\n",
        "from tensorflow.python.keras import models\n",
        "from tensorflow.python.keras import layers\n",
        "from tensorflow.python.keras import optimizers"
      ],
      "execution_count": 0,
      "outputs": []
    },
    {
      "cell_type": "markdown",
      "metadata": {
        "id": "ndHC2gA9gZIe",
        "colab_type": "text"
      },
      "source": [
        "# Train Model"
      ]
    },
    {
      "cell_type": "markdown",
      "metadata": {
        "id": "8nP0mA50frdn",
        "colab_type": "text"
      },
      "source": [
        "The code section below sets up the path to the images that we are going to use to train our model. There is a training data set and a validation data set. We will use the images in the Training folder to train our model, and use the images in the Test folder to help validate how accurate our model is at classifying the apples."
      ]
    },
    {
      "cell_type": "code",
      "metadata": {
        "id": "DPLhSwhToXBq",
        "colab_type": "code",
        "colab": {}
      },
      "source": [
        "# directory structure:\n",
        "# - Training\n",
        "#     - im1.jpg\n",
        "#     - im2.jpg\n",
        "#     - ...\n",
        "# - Validation\n",
        "#     - im1.jpg\n",
        "#     - im2.jpg\n",
        "#     - ...\n",
        "\n",
        "THIS_FOLDER = os.path.dirname(os.path.abspath('__file__'))\n",
        "train_file = os.path.join(THIS_FOLDER, 'FruitClassifierTutorial/fruits-360/Training')\n",
        "validation_file = os.path.join(THIS_FOLDER, 'FruitClassifierTutorial/fruits-360/Test')\n",
        "train_dir = train_file\n",
        "validation_dir = validation_file"
      ],
      "execution_count": 0,
      "outputs": []
    },
    {
      "cell_type": "markdown",
      "metadata": {
        "id": "VFeSwBShsCOV",
        "colab_type": "text"
      },
      "source": [
        "Run the code below to print out the classes of apples we will be training our model to identify, and one image from each class will also be printed. (You will also see one banana in the images - this was added for later use)"
      ]
    },
    {
      "cell_type": "code",
      "metadata": {
        "id": "oeIkd_8_o2VK",
        "colab_type": "code",
        "outputId": "3cbf68c1-a8fd-4d9d-b6a2-f0208192df7c",
        "colab": {
          "base_uri": "https://localhost:8080/",
          "height": 237
        }
      },
      "source": [
        "from IPython.display import display\n",
        "from matplotlib.pyplot import figure, imshow, axis\n",
        "from matplotlib.image import imread\n",
        "import PIL.Image\n",
        "import glob\n",
        "\n",
        "data_path = os.path.join(train_file,'*')\n",
        "img_directories = glob.glob(data_path)\n",
        "classes = []\n",
        "data_paths = []\n",
        "\n",
        "# get all unique classes of apples we will be classifying\n",
        "# for each type of apple, append path to directory (where the images \n",
        "# are for each apple)\n",
        "for dir_path in img_directories:\n",
        "  classes.append(dir_path.split('/')[-1])\n",
        "  data_paths.append(dir_path)\n",
        "classes.sort()\n",
        "data_paths.sort()\n",
        "\n",
        "print(\"All classes of apples that we will be classifying:\")\n",
        "i = 0\n",
        "for apple in classes:\n",
        "  print(str(i) + \".\", apple)\n",
        "  i += 1\n",
        "print()\n",
        "\n",
        "unique_apples = []\n",
        "\n",
        "# get 1 image for each type of apple in data set to display\n",
        "list_of_imgs = []\n",
        "for apple_path in data_paths:\n",
        "  imgs_path = os.path.join(apple_path,'*')\n",
        "  img_1 = glob.glob(imgs_path)[0] # grab first image in folder\n",
        "  list_of_imgs.append(img_1)\n",
        "\n",
        "# display the images\n",
        "def showImagesHorizontally(list_of_files):\n",
        "    fig = figure()\n",
        "    number_of_files = len(list_of_files)\n",
        "    for i in range(number_of_files):\n",
        "      a=fig.add_subplot(1,number_of_files,i+1)\n",
        "      image = imread(list_of_files[i])\n",
        "      imshow(image,cmap='Greys_r')\n",
        "      axis('off')\n",
        "showImagesHorizontally(list_of_imgs)"
      ],
      "execution_count": 6,
      "outputs": [
        {
          "output_type": "stream",
          "text": [
            "All classes of apples that we will be classifying:\n",
            "0. Apple Braeburn\n",
            "1. Apple Crimson Snow\n",
            "2. Apple Golden 1\n",
            "3. Apple Granny Smith\n",
            "4. Apple Pink Lady\n",
            "5. Apple Red 1\n",
            "6. Apple Red Yellow 1\n",
            "7. Banana\n",
            "\n"
          ],
          "name": "stdout"
        },
        {
          "output_type": "display_data",
          "data": {
            "image/png": "[encoded data removed]",
            "text/plain": [
              "<Figure size 432x288 with 8 Axes>"
            ]
          },
          "metadata": {
            "tags": []
          }
        }
      ]
    },
    {
      "cell_type": "markdown",
      "metadata": {
        "id": "KHnYdUE7ek9a",
        "colab_type": "text"
      },
      "source": [
        "Now it is time to set up our pre-trained model VGG16 and train on our Apple images"
      ]
    },
    {
      "cell_type": "code",
      "metadata": {
        "id": "cIqYCthwoXBj",
        "colab_type": "code",
        "colab": {}
      },
      "source": [
        "conv_base=VGG16(weights='imagenet',include_top=False,input_shape=(100,100,3))\n",
        "model = models.Sequential()\n",
        "model.add(conv_base)\n",
        "model.add(layers.Flatten())\n",
        "model.add(layers.Dense(256, activation='relu'))\n",
        "model.add(layers.Dense(8, activation='softmax'))\n",
        "model.compile(loss='categorical_crossentropy',optimizer=tf.keras.optimizers.Adam(lr=1e-4),metrics=['categorical_accuracy'])"
      ],
      "execution_count": 0,
      "outputs": []
    },
    {
      "cell_type": "markdown",
      "metadata": {
        "id": "Emb-HLLRhnbj",
        "colab_type": "text"
      },
      "source": [
        "\n",
        "For training a model, image data preparation and augmentation is an important step. Performing data augmentation is a form of regularization, enabling our model to generalize better and Keras provides the ImageDataGenerator class that helps do this for us!"
      ]
    },
    {
      "cell_type": "code",
      "metadata": {
        "id": "Fvox8xW6oXBv",
        "colab_type": "code",
        "outputId": "2797205e-d0b4-43d0-a21f-4886bf9932fe",
        "colab": {
          "base_uri": "https://localhost:8080/",
          "height": 51
        }
      },
      "source": [
        "train_datagen = ImageDataGenerator(\n",
        "    rescale=1./255,\n",
        "    rotation_range=30,\n",
        "    width_shift_range=0.2,\n",
        "    height_shift_range=0.2,\n",
        "    shear_range=0.2,\n",
        "    zoom_range=0.2,\n",
        "    horizontal_flip=True,)\n",
        "\n",
        "# flow_from_directory gets the images from the path we gave it\n",
        "validation_generator = ImageDataGenerator(rescale=1./255).flow_from_directory(\n",
        "        validation_dir,\n",
        "        target_size=(100, 100),\n",
        "        batch_size=32, shuffle=False)\n",
        "\n",
        "train_generator = train_datagen.flow_from_directory(\n",
        "        # This is the target directory\n",
        "        train_dir,\n",
        "        # All images will be resized to 100x100\n",
        "        target_size=(100, 100),\n",
        "        batch_size=32)"
      ],
      "execution_count": 8,
      "outputs": [
        {
          "output_type": "stream",
          "text": [
            "Found 1286 images belonging to 8 classes.\n",
            "Found 3774 images belonging to 8 classes.\n"
          ],
          "name": "stdout"
        }
      ]
    },
    {
      "cell_type": "markdown",
      "metadata": {
        "id": "yjs8GRNuj4HA",
        "colab_type": "text"
      },
      "source": [
        "\n",
        "fit_generator() is the function call to train our model. This function uses the image generators created above which will generate the data that is needed to fit the model.\n",
        "\n",
        "Here the number of epochs is set to 8 which is the number of complete passes through the training dataset. This is a *very* small number, and ideally this number would be set to 100. The same goes for validation_teps which would ideally be set to 50. These are both set to a low number for timing purposes. \n",
        "\n",
        "Training should take ~5 min or less, but if you want to increase the accuracy of the model, you need to train for longer. In order to do so, follw these step: \n",
        "  1. remove the line 'steps_per_epoch=5,'\n",
        "  2. set epochs=100\n",
        "  3. set validation_steps=50\n"
      ]
    },
    {
      "cell_type": "code",
      "metadata": {
        "id": "ArdzX6SQoXB0",
        "colab_type": "code",
        "outputId": "ae2a0d93-c452-40a4-b146-f376828ec15d",
        "colab": {
          "base_uri": "https://localhost:8080/",
          "height": 258
        }
      },
      "source": [
        "history = model.fit_generator(\n",
        "      train_generator,\n",
        "      steps_per_epoch=5,\n",
        "      epochs=8,\n",
        "      validation_data=validation_generator,\n",
        "      validation_steps=5)\n"
      ],
      "execution_count": 0,
      "outputs": [
        {
          "output_type": "stream",
          "text": [
            "Epoch 1/8\n",
            "WARNING:tensorflow:From /usr/local/lib/python3.6/dist-packages/tensorflow/python/ops/math_grad.py:1250: add_dispatch_support.<locals>.wrapper (from tensorflow.python.ops.array_ops) is deprecated and will be removed in a future version.\n",
            "Instructions for updating:\n",
            "Use tf.where in 2.0, which has the same broadcast rule as np.where\n",
            "5/5 [==============================] - 51s 10s/step - loss: 2.1758 - categorical_accuracy: 0.1500 - val_loss: 2.0387 - val_categorical_accuracy: 0.0000e+00\n",
            "Epoch 2/8\n",
            "5/5 [==============================] - 47s 9s/step - loss: 1.8468 - categorical_accuracy: 0.2911 - val_loss: 2.5140 - val_categorical_accuracy: 0.0000e+00\n",
            "Epoch 3/8\n",
            "5/5 [==============================] - 48s 10s/step - loss: 1.2532 - categorical_accuracy: 0.5938 - val_loss: 2.2570 - val_categorical_accuracy: 0.0000e+00\n",
            "Epoch 4/8\n",
            "5/5 [==============================] - 47s 9s/step - loss: 0.8782 - categorical_accuracy: 0.7188 - val_loss: 0.6879 - val_categorical_accuracy: 0.5750\n",
            "Epoch 5/8\n",
            "4/5 [=======================>......] - ETA: 7s - loss: 0.6104 - categorical_accuracy: 0.7734 "
          ],
          "name": "stdout"
        }
      ]
    },
    {
      "cell_type": "markdown",
      "metadata": {
        "id": "9XeT-HVkjjom",
        "colab_type": "text"
      },
      "source": [
        "Run the cell below to see the accuracy of your model! "
      ]
    },
    {
      "cell_type": "code",
      "metadata": {
        "id": "kYSa78Kmtu1k",
        "colab_type": "code",
        "colab": {}
      },
      "source": [
        "result = model.evaluate_generator(validation_generator)\n",
        "print(\"Test-set classification accuracy: {0:.2%}\".format(result[1]))"
      ],
      "execution_count": 0,
      "outputs": []
    },
    {
      "cell_type": "markdown",
      "metadata": {
        "id": "UEuuBE0vUVIb",
        "colab_type": "text"
      },
      "source": [
        "# Predict\n",
        "\n",
        "Now it is time to see how well our model is at predicting! Remember, we trained our model on 7 classes of apples, and 1 banana. In our dataset, the 7 apples are faily similar and predicting on 8 epochs may not be enough for our model to map out the differences - this is why we have a banana! A banana is very distinct from an apple so our hope is that we can accurately determine this class. "
      ]
    },
    {
      "cell_type": "markdown",
      "metadata": {
        "id": "PKR9E0nxcKjQ",
        "colab_type": "text"
      },
      "source": [
        "### How a model predicts\n",
        "The output of model.predict() is an array of floats where each entry in the array represents the probability of the image belonging to a class.  In our case, we have a total of 8 classes (7 apple, 1 banana). The entries in the array are sorted in alphabetical order.\n",
        "\n",
        "---\n",
        "Use these indicies to choose the image to predict.\n",
        "\n",
        "* 0 - 163 for   Apple Braeburn\n",
        "* 164 - 311 for Apple Crimson Snow\n",
        "* 312 - 475 for Apple Golden 1\n",
        "* 476 - 539 for Apple Granny Smith\n",
        "* 640 - 791 for Apple Pink Lady\n",
        "* 792 - 955 for Apple Red 1\n",
        "* 956 - 1119 for Apple Red Yellow 1\n",
        "* 1120 - 1285 for Banana\n",
        "---"
      ]
    },
    {
      "cell_type": "code",
      "metadata": {
        "id": "It0KChWEdX3D",
        "colab_type": "code",
        "colab": {}
      },
      "source": [
        "# code below used to find start index for each class\n",
        "\n",
        "# test_images = [validation_generator.filepaths]\n",
        "# all_apple = test_images[0]\n",
        "# class_dict = {}\n",
        "# i = 0\n",
        "# for path in all_apple:\n",
        "#   name = path.split(\"/\")[-2]\n",
        "#   if name not in class_dict:\n",
        "#     class_dict[name] = i\n",
        "#   i += 1\n",
        "# for c in class_dict:\n",
        "#   print(class_dict[c],c)\n",
        "# print i"
      ],
      "execution_count": 0,
      "outputs": []
    },
    {
      "cell_type": "markdown",
      "metadata": {
        "id": "RBTNxBCOgYQ_",
        "colab_type": "text"
      },
      "source": [
        "Below is the code to measure the accuracy of classifying a banana"
      ]
    },
    {
      "cell_type": "code",
      "metadata": {
        "id": "nxYDaOTngfY4",
        "colab_type": "code",
        "colab": {}
      },
      "source": [
        "test_images = [validation_generator.filepaths]\n",
        "all_apple = test_images[0]\n",
        "i = 1120\n",
        "wrong = 0\n",
        "right = 0\n",
        "while i < 1286:\n",
        "  first_test_img = all_apple[i] \n",
        "  im = cv2.resize(cv2.imread(first_test_img), (100, 100)).astype(np.float32)\n",
        "  im = np.expand_dims(im, axis=0)\n",
        "  predictions = model.predict(im)\n",
        "  pred = np.argmax(predictions)\n",
        "  if pred != 7:\n",
        "    wrong +=1\n",
        "  else:\n",
        "    right += 1\n",
        "  i += 1\n",
        "print(str((right / (right + wrong))*100) + \"%\")"
      ],
      "execution_count": 0,
      "outputs": []
    },
    {
      "cell_type": "markdown",
      "metadata": {
        "id": "kKNKFU2Xhvel",
        "colab_type": "text"
      },
      "source": [
        "Classifying the banana did not do too bad compared to the accuracy of other apples! Most of the apple images look alike so most classify as Red Apple, even when they are not labeled as a Red Apple. This makes some of the accuracies around 0%... This problem can be solved by re-training our model above for longer."
      ]
    },
    {
      "cell_type": "markdown",
      "metadata": {
        "id": "0Ksnku0vj3zj",
        "colab_type": "text"
      },
      "source": [
        "Now you can choose your own image and see what your model predicts it is! Sample indices are provided below so that you can choose an image from each class and see what our model will classify it as."
      ]
    },
    {
      "cell_type": "code",
      "metadata": {
        "id": "0B9TvfibAnb7",
        "colab_type": "code",
        "colab": {}
      },
      "source": [
        "test_images = [validation_generator.filepaths]\n",
        "all_apple = test_images[0]\n",
        "first_test_img = all_apple[0]  # change this number to choose image to predict; \n",
        "                               # see below for indices\n",
        "\n",
        "# numbers of index's for test images:\n",
        "# * 0 - 163   for Apple Braeburn\n",
        "# * 164 - 311 for Apple Crimson Snow\n",
        "# * 312 - 475 for Apple Golden 1\n",
        "# * 476 - 539 for Apple Granny Smith\n",
        "# * 640 - 791 for Apple Pink Lady\n",
        "# * 792 - 955 for Apple Red 1\n",
        "# * 956 -1119 for Apple Red Yellow 1\n",
        "# * 1120 -1285 for Banana\n",
        "\n",
        "im = cv2.resize(cv2.imread(first_test_img), (100, 100)).astype(np.float32)\n",
        "im = np.expand_dims(im, axis=0)\n",
        "print(\"predict on this image:\")\n",
        "print(first_test_img)\n",
        "showImagesHorizontally([first_test_img])\n"
      ],
      "execution_count": 0,
      "outputs": []
    },
    {
      "cell_type": "code",
      "metadata": {
        "id": "bZGhdEmJE9r4",
        "colab_type": "code",
        "colab": {}
      },
      "source": [
        "predictions = model.predict(im)\n",
        "mapping_dictionary = {0: \"Apple Braeburn\",\n",
        "                      1: \"Apple Crimson Snow\",\n",
        "                      2: \"Apple Golden 1\",\n",
        "                      3: \"Apple Granny Smith\",\n",
        "                      4: \"Apple Pink Lady\",\n",
        "                      5: \"Apple Red 1\",\n",
        "                      6: \"Apple Red Yellow 1\", \n",
        "                      7: \"Banana\"}\n",
        "pred = np.argmax(predictions)\n",
        "print(\"Prediction:\", mapping_dictionary[pred])"
      ],
      "execution_count": 0,
      "outputs": []
    },
    {
      "cell_type": "markdown",
      "metadata": {
        "id": "MO_9k9lDbogP",
        "colab_type": "text"
      },
      "source": [
        "# Congratulations!\n",
        "\n",
        "You have built a classifier!"
      ]
    }
  ]
}